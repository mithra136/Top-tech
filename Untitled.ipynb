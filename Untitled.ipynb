{
 "cells": [
  {
   "cell_type": "code",
   "execution_count": 1,
   "id": "6b532a8d-b2d6-45b1-9aa2-64df18c024d5",
   "metadata": {},
   "outputs": [
    {
     "name": "stdout",
     "output_type": "stream",
     "text": [
      "('K', 'U', 'O')\n"
     ]
    }
   ],
   "source": [
    "p=('K','U','O')\n",
    "print(p)"
   ]
  },
  {
   "cell_type": "code",
   "execution_count": 2,
   "id": "5b46234c-89c8-41f2-86d6-cb9d7b00a660",
   "metadata": {},
   "outputs": [
    {
     "name": "stdout",
     "output_type": "stream",
     "text": [
      "<class 'tuple'>\n"
     ]
    }
   ],
   "source": [
    "print(type(p))"
   ]
  },
  {
   "cell_type": "code",
   "execution_count": 4,
   "id": "cbfc7b24-e7e8-4c4e-a717-aa581bfb2532",
   "metadata": {},
   "outputs": [
    {
     "name": "stdout",
     "output_type": "stream",
     "text": [
      "['1', '2', '3']\n"
     ]
    }
   ],
   "source": [
    "P=['1','2','3']\n",
    "print(P)"
   ]
  },
  {
   "cell_type": "code",
   "execution_count": 5,
   "id": "c38acac1-5120-41e3-a2a0-5b6bc6190f92",
   "metadata": {},
   "outputs": [
    {
     "name": "stdout",
     "output_type": "stream",
     "text": [
      "<class 'list'>\n"
     ]
    }
   ],
   "source": [
    "print(type(P))"
   ]
  },
  {
   "cell_type": "code",
   "execution_count": 6,
   "id": "2668884d-1e83-4c35-8f56-f93d20c865cb",
   "metadata": {},
   "outputs": [
    {
     "name": "stdout",
     "output_type": "stream",
     "text": [
      "Hello World\n"
     ]
    }
   ],
   "source": [
    "V=(\"Hello World\")\n",
    "print(V)"
   ]
  },
  {
   "cell_type": "code",
   "execution_count": 7,
   "id": "7f62e933-9ffd-42e5-90db-a22020495159",
   "metadata": {},
   "outputs": [
    {
     "name": "stdout",
     "output_type": "stream",
     "text": [
      "<class 'str'>\n"
     ]
    }
   ],
   "source": [
    "print(type(V))"
   ]
  },
  {
   "cell_type": "code",
   "execution_count": 9,
   "id": "48f0e718-8eda-44f9-9854-11893c973280",
   "metadata": {},
   "outputs": [
    {
     "name": "stdout",
     "output_type": "stream",
     "text": [
      "{'name': 'Mithra', 'Age': '20'}\n"
     ]
    }
   ],
   "source": [
    "Student={\"name\": \"Mithra\",\"Age\":\"20\"}\n",
    "print(Student)"
   ]
  },
  {
   "cell_type": "code",
   "execution_count": 10,
   "id": "d7e34bea-3874-4b91-bde4-959307f50572",
   "metadata": {},
   "outputs": [
    {
     "name": "stdout",
     "output_type": "stream",
     "text": [
      "<class 'dict'>\n"
     ]
    }
   ],
   "source": [
    "print(type(Student))"
   ]
  },
  {
   "cell_type": "code",
   "execution_count": 11,
   "id": "1e4c7901-a8ae-46e6-9057-413f2fd82843",
   "metadata": {},
   "outputs": [
    {
     "name": "stdout",
     "output_type": "stream",
     "text": [
      "{'1', '2', '3'}\n"
     ]
    }
   ],
   "source": [
    "A={'1','2','3'}\n",
    "print(A)"
   ]
  },
  {
   "cell_type": "code",
   "execution_count": 12,
   "id": "f365f00c-7888-478b-ba8d-2f1cbc401f53",
   "metadata": {},
   "outputs": [
    {
     "name": "stdout",
     "output_type": "stream",
     "text": [
      "<class 'set'>\n"
     ]
    }
   ],
   "source": [
    "print(type(A))"
   ]
  },
  {
   "cell_type": "code",
   "execution_count": 13,
   "id": "4b4022c2-0e2d-4a25-a469-b8cb8e4e3028",
   "metadata": {},
   "outputs": [
    {
     "name": "stdout",
     "output_type": "stream",
     "text": [
      "('1', '2', '3')\n"
     ]
    }
   ],
   "source": [
    "O=('1','2','3')\n",
    "print(O)"
   ]
  },
  {
   "cell_type": "code",
   "execution_count": 14,
   "id": "822e5378-ecf9-4295-beab-b81b2fcd196b",
   "metadata": {},
   "outputs": [
    {
     "name": "stdout",
     "output_type": "stream",
     "text": [
      "<class 'int'>\n"
     ]
    }
   ],
   "source": [
    "print(type(0))"
   ]
  },
  {
   "cell_type": "code",
   "execution_count": 17,
   "id": "4c5769ee-0e8d-4ac9-a728-302114d7c54a",
   "metadata": {},
   "outputs": [
    {
     "ename": "TypeError",
     "evalue": "'builtin_function_or_method' object is not subscriptable",
     "output_type": "error",
     "traceback": [
      "\u001b[1;31m---------------------------------------------------------------------------\u001b[0m",
      "\u001b[1;31mTypeError\u001b[0m                                 Traceback (most recent call last)",
      "Cell \u001b[1;32mIn[17], line 2\u001b[0m\n\u001b[0;32m      1\u001b[0m list1\u001b[38;5;241m=\u001b[39m[]\n\u001b[1;32m----> 2\u001b[0m \u001b[38;5;28mprint\u001b[39m[list1]\n",
      "\u001b[1;31mTypeError\u001b[0m: 'builtin_function_or_method' object is not subscriptable"
     ]
    }
   ],
   "source": []
  },
  {
   "cell_type": "code",
   "execution_count": 18,
   "id": "5265d831-37e5-4bf7-bfd5-57a574583637",
   "metadata": {},
   "outputs": [
    {
     "name": "stdout",
     "output_type": "stream",
     "text": [
      "thra\n",
      "Mit\n",
      "Mith\n",
      "a\n"
     ]
    }
   ],
   "source": [
    "S= \"Mithra\"\n",
    "print(S[-4:])\n",
    "print(S[0:3])\n",
    "print(S[:4])\n",
    "print(S[:-4:-5])"
   ]
  },
  {
   "cell_type": "code",
   "execution_count": 20,
   "id": "8f95d8db-d167-4fca-9bdc-a5156533d36d",
   "metadata": {},
   "outputs": [
    {
     "ename": "_IncompleteInputError",
     "evalue": "incomplete input (2400258247.py, line 2)",
     "output_type": "error",
     "traceback": [
      "\u001b[1;36m  Cell \u001b[1;32mIn[20], line 2\u001b[1;36m\u001b[0m\n\u001b[1;33m    print(S[5:8:21]\u001b[0m\n\u001b[1;37m                   ^\u001b[0m\n\u001b[1;31m_IncompleteInputError\u001b[0m\u001b[1;31m:\u001b[0m incomplete input\n"
     ]
    }
   ],
   "source": [
    "S=\"abcdefghijklmnopqrsrtuvwxyz\"\n",
    "print(S[5:8:21]"
   ]
  },
  {
   "cell_type": "code",
   "execution_count": null,
   "id": "0cee2a91-fb03-4822-84cc-b2a2788e4552",
   "metadata": {},
   "outputs": [],
   "source": []
  }
 ],
 "metadata": {
  "kernelspec": {
   "display_name": "Python 3 (ipykernel)",
   "language": "python",
   "name": "python3"
  },
  "language_info": {
   "codemirror_mode": {
    "name": "ipython",
    "version": 3
   },
   "file_extension": ".py",
   "mimetype": "text/x-python",
   "name": "python",
   "nbconvert_exporter": "python",
   "pygments_lexer": "ipython3",
   "version": "3.13.5"
  }
 },
 "nbformat": 4,
 "nbformat_minor": 5
}
